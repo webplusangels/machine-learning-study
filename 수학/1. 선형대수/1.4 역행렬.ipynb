{
 "cells": [
  {
   "cell_type": "markdown",
   "id": "1853be7d",
   "metadata": {},
   "source": [
    "# 역행렬(inverse matrix)\n",
    "\n",
    "정방 행렬 $A$에 대한 역행렬(inverse matrix) $A^{−1}$ 은 원래의 행렬 $A$와 다음 관계를 만족하는 정방 행렬을 말한다. \n",
    "$I$는 항등 행렬(identity matrix)이다.\n",
    "\n",
    "$$A^{−1}A=AA^{−1}=I$$\n",
    "\n",
    "역행렬이 존재하는 행렬을 가역행렬(invertible matrix), 반대로 역행렬이 존재하지 않는 행렬을 특이행렬(singular matrix)이라고 한다.\n",
    "\n",
    "## 역행렬의 성질\n",
    "역행렬은 다음 성질을 만족한다. \n",
    "\n",
    "전치 행렬의 역행렬은 역행렬의 전치 행렬과 같다. 따라서 대칭 행렬의 역행렬도 대칭 행렬이다.\n",
    "\n",
    "$$(A^T)^−1=(A^{−1})^T$$\n",
    "\n",
    "두 개 이상의 정방 행렬의 곱은 같은 크기의 정방 행렬이 되는데 이러한 행렬의 곱의 역행렬은 다음 성질이 성립한다.\n",
    "\n",
    "$$(AB)^{−1}=B^{−1}A^{−1}$$\n",
    "\n",
    "$$(ABC)^{−1}=C^{−1}B^{−1}A^{−1}$$\n",
    "\n",
    "## 역행렬과 선형 연립방정식의 해\n",
    "\n",
    "선형 연립방정식에서 미지수의 수와 방정식의 수가 같다면 계수행렬 $A$는 정방행렬이 된다. 만약 행렬 $A$의 역행렬 $A^{−1}$이 존재한다면 역행렬의 정의로부터 선형 연립방정식의 해는 다음처럼 구할 수 있다.\n",
    "\n",
    "$$Ax=b$$\n",
    "\n",
    "$$x=A^{−1}b$$"
   ]
  },
  {
   "cell_type": "code",
   "execution_count": 1,
   "id": "b5fee04f",
   "metadata": {},
   "outputs": [
    {
     "data": {
      "text/plain": [
       "array([[ 0., -1.,  1.],\n",
       "       [ 1.,  1., -1.],\n",
       "       [-1.,  0.,  1.]])"
      ]
     },
     "execution_count": 1,
     "metadata": {},
     "output_type": "execute_result"
    }
   ],
   "source": [
    "# numpy로 역행렬 구하기\n",
    "\n",
    "A = np.array([[1, 1, 0], [0, 1, 1], [1, 1, 1]])\n",
    "\n",
    "# array([[1, 1, 0],\n",
    "#        [0, 1, 1],\n",
    "#        [1, 1, 1]])\n",
    "\n",
    "Ainv = np.linalg.inv(A)\n",
    "Ainv"
   ]
  },
  {
   "cell_type": "code",
   "execution_count": 2,
   "id": "ba4f8346",
   "metadata": {},
   "outputs": [
    {
     "data": {
      "text/plain": [
       "array([[0.],\n",
       "       [0.],\n",
       "       [0.]])"
      ]
     },
     "execution_count": 2,
     "metadata": {},
     "output_type": "execute_result"
    }
   ],
   "source": [
    "# 역행렬과 선형 연립방정식의 해 구하기\n",
    "\n",
    "b = np.array([[2], [2], [3]])\n",
    "x = Ainv @ b\n",
    "\n",
    "A @ x - b # 일치하는지 확인\n"
   ]
  },
  {
   "cell_type": "code",
   "execution_count": 4,
   "id": "427e0848",
   "metadata": {},
   "outputs": [],
   "source": [
    "# 연습 문제 2.4.5\n",
    "\n",
    "# from sklearn.datasets import load_boston\n",
    "# boston = load_boston()\n",
    "# X = boston.data\n",
    "# y = boston.target\n",
    "# A = X[:4, [0, 4, 5, 6]]  # 'CRIM', 'NOX', 'RM', 'AGE'\n",
    "# b = y[:4]\n",
    "\n",
    "# Ainv = np.linalg.inv(A)\n",
    "# x = Ainv @ b\n",
    "\n",
    "# *데이터 지워짐!*"
   ]
  },
  {
   "cell_type": "code",
   "execution_count": 2,
   "id": "6dc4675d",
   "metadata": {},
   "outputs": [
    {
     "name": "stdout",
     "output_type": "stream",
     "text": [
      "[[1.98333333]\n",
      " [2.        ]\n",
      " [3.03333333]\n",
      " [4.08333333]]\n"
     ]
    }
   ],
   "source": [
    "# 최소자승문제: 벡터의 놈(norm)을 최소화\n",
    "\n",
    "# 풀이 과정\n",
    "A = np.array([[1, 1, 0], [0, 1, 1], [1, 1, 1], [1, 1, 2]])\n",
    "b = np.array([[2], [2], [3], [4.1]])\n",
    "\n",
    "Apinv = np.linalg.inv(A.T @ A) @ A.T\n",
    "# Apinv == array([[ 0.33333333, -1.        ,  0.33333333,  0.33333333],\n",
    "#                [ 0.5       ,  1.        ,  0.        , -0.5       ],\n",
    "#                [-0.5       ,  0.        ,  0.        ,  0.5       ]])\n",
    "\n",
    "x = Apinv @ b\n",
    "# x == array([[1.03333333],\n",
    "#            [0.95      ],\n",
    "#            [1.05      ]])\n",
    "\n",
    "print(A @ x) # b값과 유사"
   ]
  },
  {
   "cell_type": "code",
   "execution_count": 3,
   "id": "5af3618b",
   "metadata": {},
   "outputs": [
    {
     "data": {
      "text/plain": [
       "array([[1.03333333],\n",
       "       [0.95      ],\n",
       "       [1.05      ]])"
      ]
     },
     "execution_count": 3,
     "metadata": {},
     "output_type": "execute_result"
    }
   ],
   "source": [
    "# lstsq() 명령으로 동일한 계산 가능\n",
    "\n",
    "x, resid, rank, s = np.linalg.lstsq(A, b)\n",
    "x \n",
    "\n",
    "# resid는 놈의 제곱이며 (array([0.00166667]), 0.001666666666666655)"
   ]
  }
 ],
 "metadata": {
  "kernelspec": {
   "display_name": "Python 3 (ipykernel)",
   "language": "python",
   "name": "python3"
  },
  "language_info": {
   "codemirror_mode": {
    "name": "ipython",
    "version": 3
   },
   "file_extension": ".py",
   "mimetype": "text/x-python",
   "name": "python",
   "nbconvert_exporter": "python",
   "pygments_lexer": "ipython3",
   "version": "3.10.0"
  }
 },
 "nbformat": 4,
 "nbformat_minor": 5
}
