{
 "cells": [
  {
   "cell_type": "code",
   "execution_count": 1,
   "id": "e3fae295",
   "metadata": {},
   "outputs": [
    {
     "data": {
      "text/plain": [
       "7.745966692414834"
      ]
     },
     "execution_count": 1,
     "metadata": {},
     "output_type": "execute_result"
    }
   ],
   "source": [
    "# 행렬 놈(norm):  항상 0보다 같거나 큰 행렬로 그 중 2형은 벡터의 기하학적 길이와 같음\n",
    "\n",
    "# 벡터의 놈의 제곱이 벡터의 제곱합과 같다\n",
    "\n",
    "# 놈을 최소화하는 것은 벡터의 제곱합을 최소화하는 것\n",
    "\n",
    "A = (np.arange(9) - 4).reshape((3, 3))\n",
    "\n",
    "# array([[-4, -3, -2],\n",
    "#        [-1,  0,  1],\n",
    "#        [ 2,  3,  4]])\n",
    "\n",
    "np.linalg.norm(A)"
   ]
  },
  {
   "cell_type": "code",
   "execution_count": 2,
   "id": "9f1118ad",
   "metadata": {},
   "outputs": [
    {
     "data": {
      "text/plain": [
       "3.0"
      ]
     },
     "execution_count": 2,
     "metadata": {},
     "output_type": "execute_result"
    }
   ],
   "source": [
    "# 대각합(trace): 정방행렬에 대해서만 정의되며 다음처럼 대각원소의 합으로 계산\n",
    "\n",
    "np.trace(np.eye(3))"
   ]
  },
  {
   "cell_type": "code",
   "execution_count": 3,
   "id": "34503910",
   "metadata": {},
   "outputs": [
    {
     "data": {
      "text/plain": [
       "0.0"
      ]
     },
     "execution_count": 3,
     "metadata": {},
     "output_type": "execute_result"
    }
   ],
   "source": [
    "# 행렬식(determinant)\n",
    "\n",
    "A = np.array([[1, 2, 3], [4, 5, 6], [7, 8, 9]])\n",
    "np.linalg.det(A)"
   ]
  },
  {
   "cell_type": "code",
   "execution_count": 8,
   "id": "657d5b8c",
   "metadata": {},
   "outputs": [],
   "source": [
    "# 연습 문제 2.3.7\n",
    "\n",
    "A1 = np.array([[2, -1, 0],[-1, 2, -1],[0, -1, 2]])\n",
    "B1 = np.linalg.norm(A1) # 행렬 놈\n",
    "C1 = np.trace(A1) # 행렬 대각합\n",
    "D1 = np.linalg.det(A1) # 행렬식\n",
    "\n",
    "A2 = np.arange(4).reshape((2,2))\n",
    "B2 = np.linalg.norm(A2)\n",
    "C2 = np.trace(A2)\n",
    "D2 = np.linalg.det(A2)"
   ]
  }
 ],
 "metadata": {
  "kernelspec": {
   "display_name": "Python 3 (ipykernel)",
   "language": "python",
   "name": "python3"
  },
  "language_info": {
   "codemirror_mode": {
    "name": "ipython",
    "version": 3
   },
   "file_extension": ".py",
   "mimetype": "text/x-python",
   "name": "python",
   "nbconvert_exporter": "python",
   "pygments_lexer": "ipython3",
   "version": "3.10.0"
  }
 },
 "nbformat": 4,
 "nbformat_minor": 5
}
